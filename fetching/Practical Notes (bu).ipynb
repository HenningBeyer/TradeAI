{
 "cells": [
  {
   "cell_type": "markdown",
   "id": "0d8cb064",
   "metadata": {},
   "source": [
    "## Notes for Downstream Application"
   ]
  },
  {
   "cell_type": "markdown",
   "id": "597cff7e",
   "metadata": {},
   "source": [
    "# TODO: Make Cost Calculator and write dodumentation later"
   ]
  },
  {
   "cell_type": "markdown",
   "id": "a78e9f53",
   "metadata": {},
   "source": [
    "## Total Pricing List\n",
    "       - EC2: t4g.small:      12 € / month (        1 CPU,   2 GiB RAM, 0.0168 € / h)\n",
    "                                                (Jupyter Notebooks, Fetching, Side Tasks)\n",
    "       - EC2: g4dn.xlarge: 100|0 € / month (1 GPU,  4 CPU,  16 GiB RAM, 0.50 € / h)\n",
    "                                                (Experiments with ExperATAI, or 0 € locally)\n",
    "       - EC2: g4dn.xlarge:   360 € / month (1 GPU,  4 CPU,  16 GiB RAM, 0.50 € / h)\n",
    "                                                (Full-time Inference, One TradeAI instance)\n",
    "       - EC2: g4dn.12xlarge: 100 € / month (4 GPU, 48 CPU, 192 GiB RAM, 3.90 € / h)\n",
    "                                                (Pre-Training only, 3 pre-trainings / month)\n",
    "            - g4dn uses NVIDIA-T4-GPUs (16 GiB GPU RAM)\n",
    "        \n",
    "        \n",
    "            \n",
    "            \n",
    "       - S3:                  30 € / TB  month (0,03  € / GiB  month) (max 100 GB needed)\n",
    "       - S3 Glacier:           4 € / TB  month (0.004 € / GiB  month) \n",
    "            - Data transfer from S3 Glacier to EC2 in the same region is FREE\n",
    "            - Data transfer to S3 Glacier is also FREE\n",
    "                --> free usage of stored data for AWS applications\n",
    "                \n",
    "            \n",
    "            \n",
    "#### Sources: \n",
    "    - https://aws.amazon.com/de/ec2/pricing/on-demand/\n",
    "    - https://aws.amazon.com/de/s3/pricing/\n",
    "    - https://aws.amazon.com/de/s3/glacier/pricing/\n",
    "    - https://aws.amazon.com/de/ec2/instance-types/g4/\n",
    "            \n",
    "    - https://www.heroku.com/pricing\n",
    "            "
   ]
  },
  {
   "cell_type": "code",
   "execution_count": null,
   "id": "f8727896",
   "metadata": {},
   "outputs": [],
   "source": []
  },
  {
   "cell_type": "markdown",
   "id": "ee2a9c24",
   "metadata": {},
   "source": [
    "#### Trading Bots: Rules and Bot Account\n",
    "\n",
    "    - See all under https://www.binance.com/en/support/faq/trading-bots?c=216&navId=216#223\n",
    "    \n",
    "    Trading Bots Account (See in migration rules and FAQs)\n",
    "    - Isolated funds for each trading bot for better managability\n",
    "         • Separate listing of bot orders\n",
    "         • Separate banning\n",
    "    - Separate account from your main account"
   ]
  },
  {
   "cell_type": "markdown",
   "id": "68a9eecc",
   "metadata": {},
   "source": [
    "### Deployment of Global Dash App:\n",
    "    \n",
    "    - Using Flask:  https://dash.plotly.com/deployment?_ga=2.251927437.527190865.1686689491-1124856669.1669732400\n",
    "    - Using Heruko (recommended): https://dash.plotly.com/deployment\n",
    "    \n",
    "#### Computational Requirements of TradeAI:\n",
    "    • Total RAM for training = \n",
    "        + 2.0 GB RAM of common workload\n",
    "        + 2.0 GB RAM for model training\n",
    "        + 1.8 GB RAM for 3 day loaded base set\n",
    "        + 2.4 GB RAM for 1 day subset with 80 features (after feature engineering)"
   ]
  },
  {
   "cell_type": "markdown",
   "id": "2af863a3",
   "metadata": {},
   "source": [
    "#### API Limits\n",
    "\n",
    "    - See https://www.binance.com/en/support/faq/api-frequently-asked-questions-360004492232\n",
    "    - Bans last from 5 min to 3 days\n",
    "    \n",
    "        Hard Limits\n",
    "        - 1200 requests per minute --> 20 requests per second\n",
    "            • 1 currency per 50 ms\n",
    "            • 5 currencies per 250 ms\n",
    "            • Will need multiple IPs for fetching all currencies concurrently\n",
    "            • IP bans on violations usually last 5 minutes\n",
    "            \n",
    "        - 50 Orders per 10 seconds\n",
    "        - 160000 orders per 24 hours\n",
    "            • on average below 20 orders per 10 seconds during 24 hours\n",
    "        \n",
    "        ML Limits:\n",
    "        - You repeatedly \"one-up\" or \"front-run\" the best Bid/Ask on the Order Book\n",
    "            • Just decrease your frequency further if your RL agent exploits the market\n",
    "        - You repeatedly create orders and cancel them without trade executions\n",
    "            • They have two penalty metrics to keep high in 24 h:\n",
    "            • Conversion rate:      num Trades / (orders + cancels)\n",
    "            • Weight:          Total Trade Qty / (orders + cancels)"
   ]
  },
  {
   "cell_type": "code",
   "execution_count": null,
   "id": "ccd58d4c",
   "metadata": {},
   "outputs": [],
   "source": []
  },
  {
   "cell_type": "code",
   "execution_count": null,
   "id": "a68da166",
   "metadata": {},
   "outputs": [],
   "source": [
    "#AWS Snippet\n",
    "bucket = 'mybucketsname'\n",
    "data_key = 'demo.csv'\n",
    "data_loc = f's3://{bucket}/{data_key}'\n",
    "\n",
    "pd.read_csv(data_loc)"
   ]
  }
 ],
 "metadata": {
  "kernelspec": {
   "display_name": "Python 3",
   "language": "python",
   "name": "python3"
  },
  "language_info": {
   "codemirror_mode": {
    "name": "ipython",
    "version": 3
   },
   "file_extension": ".py",
   "mimetype": "text/x-python",
   "name": "python",
   "nbconvert_exporter": "python",
   "pygments_lexer": "ipython3",
   "version": "3.6.5"
  }
 },
 "nbformat": 4,
 "nbformat_minor": 5
}
