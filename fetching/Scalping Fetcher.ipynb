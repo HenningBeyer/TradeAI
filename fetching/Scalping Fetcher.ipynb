{
 "cells": [
  {
   "cell_type": "markdown",
   "id": "508fffd9",
   "metadata": {},
   "source": [
    "# Scalping Data Maintainment\n",
    "    - Fetch newly available data occasionally and append it to old datasets\n",
    "    - Include new currencies occasionally"
   ]
  },
  {
   "cell_type": "markdown",
   "id": "1a4f3514",
   "metadata": {},
   "source": [
    "### Imports"
   ]
  },
  {
   "cell_type": "code",
   "execution_count": 4,
   "id": "c043d84e",
   "metadata": {},
   "outputs": [],
   "source": [
    "import pandas as pd \n",
    "import numpy as np\n",
    "import os\n",
    "from urllib.error import  HTTPError\n",
    "import time\n",
    "import datetime\n",
    "from datetime import timedelta\n",
    "from dateutil.parser import parse\n",
    "import warnings\n",
    "import ccxt\n",
    "from ccxt.base.errors import RateLimitExceeded, BadSymbol\n",
    "import tqdm\n",
    "\n",
    "warnings.filterwarnings('ignore')"
   ]
  },
  {
   "cell_type": "markdown",
   "id": "ecded65d",
   "metadata": {},
   "source": [
    "### Fetcher Class"
   ]
  },
  {
   "cell_type": "code",
   "execution_count": 5,
   "id": "03400d2e",
   "metadata": {},
   "outputs": [],
   "source": [
    "\n",
    "class Scalping_Dataset_Fetcher:\n",
    "    \n",
    "    def __init__(self, fetcher_params):\n",
    "        \n",
    "        self.coins        = fetcher_params['coins'      ]        \n",
    "        self.stable_coin  = fetcher_params['stable_coin']\n",
    "        self.save_dir     = fetcher_params['save_dir'   ]          \n",
    "        self.start_date   = fetcher_params['start_date' ][0:7]   # '2020-02-01' --> '2020-02' \n",
    "        self.end_date     = fetcher_params['end_date'   ][0:7]   # '2021-02-01' --> '2021-02'\n",
    "        self.file_type    = fetcher_params['file_type'  ]                                                             \n",
    "        self.freq         = fetcher_params['freq'       ] # 1 min can be upsampled to lower frequencies\n",
    "        self.freq_pd      = fetcher_params['pd_freq'    ] \n",
    "        self.update_data  = fetcher_params['update_data'] # Decide either for refetching or partially refetching with updating \n",
    "        self.global_month_list = self.__get_global_month_list(self.start_date, self.end_date)\n",
    "        self.current_coin      = None\n",
    "        self.current_ticker    = None    \n",
    "        \n",
    "    def __get_global_month_list(self, start_date, end_date):\n",
    "        \"\"\" Gets the monthly strings for data packages between 'start_date' and 'end_date' for all coins. \"\"\"\n",
    "    \n",
    "        start_year = int(start_date[0:4])\n",
    "        end_year   = int(end_date[0:4])\n",
    "        years_between = end_year - start_year\n",
    "        months = [f'{start_year + i}-{str(0) if j+1 < 10 else \"\"}{j+1}' #['2020-01', '2020-02', ..., '2023-04', '2023-05']\n",
    "                    for i in range(years_between + 1) \n",
    "                        for j in range(12)]\n",
    "\n",
    "        _month_list = months[months.index(start_date):months.index(end_date)+1]\n",
    "        dt = datetime.datetime.now()\n",
    "        last_possible_month = str(dt)[:7] # --> '2023-05'\n",
    "        if last_possible_month in _month_list:\n",
    "            _idx = _month_list.index(last_possible_month)\n",
    "            _month_list = _month_list[:_idx] # at 26.05.2023 end_date can at max be '2023-05' and not '2023-06'\n",
    "\n",
    "        return _month_list # --> ['2020-02', '2020-03', ..., '2023-05']\n",
    "\n",
    "    def __get_global_updating_month_list(self, cls_start_date, cls_end_date, fn_start_date, fn_end_date):\n",
    "        \"\"\" Gets the monthly strings for data packages between 'start_date'/'fn_start_date' and \n",
    "            'end_date'/'fn_end_date' for one specific coin.\n",
    "           \n",
    "            Correctly fills monthly gaps between 'cls_start_date' and 'fn_start_date' and between\n",
    "            'cls_end_date' and 'fn_end_date' if missing months occur. \n",
    "        \"\"\"\n",
    "        \n",
    "        start_year_cls,  start_year_fn  = int(cls_start_date[0:4]), int(fn_start_date[0:4])\n",
    "        start_month_cls, start_month_fn = int(cls_start_date[5:7]), int(fn_start_date[5:7])\n",
    "\n",
    "        end_year_cls,  end_year_fn      = int(cls_end_date[0:4]),   int(fn_end_date[0:4])\n",
    "        end_month_cls, end_month_fn     = int(cls_end_date[5:7]),   int(fn_end_date[5:7])\n",
    "        \n",
    "        # Get the earliest starting date:\n",
    "        if start_year_cls < start_year_fn:\n",
    "            start_year  = start_year_cls\n",
    "            start_month = start_month_cls\n",
    "        elif start_year_cls > start_year_fn: \n",
    "            start_year = start_year_fn\n",
    "            start_month = start_month_fn\n",
    "        elif start_year_cls == start_year_fn: \n",
    "            if start_month_cls <= start_month_fn:\n",
    "                start_year  = start_year_cls\n",
    "                start_month = start_month_cls\n",
    "            elif start_month_cls > start_month_fn: \n",
    "                start_year = start_year_fn\n",
    "                start_month = start_month_fn\n",
    "         \n",
    "        # Get the latest end date:\n",
    "        if end_year_cls > end_year_fn:\n",
    "            end_year  = end_year_cls\n",
    "            end_month = end_month_cls\n",
    "        elif end_year_cls < end_year_fn: \n",
    "            end_year = end_year_fn\n",
    "            end_month = end_month_fn\n",
    "        elif end_year_cls == end_year_fn: \n",
    "            if end_month_cls >= end_month_fn:\n",
    "                end_year  = end_year_cls\n",
    "                end_month = end_month_cls\n",
    "            elif end_month_cls < end_month_fn: \n",
    "                end_year = end_year_fn\n",
    "                end_month = end_month_fn\n",
    "        \n",
    "        \n",
    "        start_date = str(start_year) + '-' + ('0' if start_month < 10 else '') + str(start_month)\n",
    "        end_date   = str(end_year)   + '-' + ('0' if end_month   < 10 else '') + str(end_month)\n",
    "        _global_month_list_after_updating  = self.__get_global_month_list(start_date, end_date)\n",
    "\n",
    "        return _global_month_list_after_updating # --> ['2020-02', '2020-03', ..., '2023-05']\n",
    "        \n",
    "        \n",
    "    def init_and_run_fetching(self):\n",
    "        \"\"\" Function intended to be called for fetching/updating all datasets for all coins\n",
    "            contained inside 'self.coins'. \n",
    "        \"\"\"\n",
    "        \n",
    "        desc = 'Fetching all tickers' if (self.update_data == False) else 'Updating all tickers'\n",
    "        for c in tqdm.tqdm(self.coins[:], desc=desc):\n",
    "            self.current_coin = c     \n",
    "            self.current_ticker = self.current_coin + self.stable_coin\n",
    "            data_dir = os.getcwd() + '/' + self.save_dir\n",
    "            \n",
    "            if self.update_data: \n",
    "                self._updated_file = None          \n",
    "                file_names = [(i, j, file_names) for i, j , file_names in os.walk(data_dir)][0][2] # -->  ['BTC_USDT_1m_2020-01-2022-06', ...]\n",
    "                found_files = [fn for fn in file_names \\\n",
    "                                  if (self.current_coin + '_' + self.stable_coin in fn) \\\n",
    "                                  and ('_'+self.freq+'_' in fn)]\n",
    "                assert len(found_files) <= 1, f'Avoid mistakes by always keeping less than 2 data files' +\\\n",
    "                                              f'of one frequency for {self.current_coin} inside {data_dir}.'\n",
    "                \n",
    "                file_name_present = (len(found_files) >= 1)\n",
    "                if file_name_present:\n",
    "                    \n",
    "                    self._updated_file = found_files[0]\n",
    "                    fn = self._updated_file[:-4] # --> no .csv\n",
    "                    fn_month_span = fn.split('_')[-1] # --> '2020-01-2022-06'\n",
    "                    \n",
    "                    self.fn_start_month = fn_month_span[0:7]\n",
    "                    self.fn_end_month   = fn_month_span[8:15]\n",
    "    \n",
    "                    _global_updating_month_list = self.__get_global_updating_month_list(\n",
    "                                                                    self.start_date, self.end_date,\n",
    "                                                                    self.fn_start_month, self.fn_end_month)\n",
    "        \n",
    "                    _file_month_list            = self.__get_global_month_list(self.fn_start_month, self.fn_end_month)\n",
    "\n",
    "                    idx_start = _global_updating_month_list.index(self.fn_start_month)\n",
    "                    idx_end   = _global_updating_month_list.index(self.fn_end_month)\n",
    "                \n",
    "                    self._past_updating_month_list = _global_updating_month_list[0:idx_start]\n",
    "                    self._future_updating_month_list = _global_updating_month_list[idx_end+1:]\n",
    "                    \n",
    "                    if _global_updating_month_list == _file_month_list:\n",
    "                        print(f'Skipping updating pair {self.current_ticker} ' +\\\n",
    "                              f'as all monthly data was already fetched.')\n",
    "                        continue\n",
    "                        \n",
    "                    print(f\"Updating dataset file '{self._updated_file}'.\")\n",
    "                        \n",
    "                    if self._past_updating_month_list != []:\n",
    "                        print(f'Updating dataset {self.current_ticker} with past data ' +\\\n",
    "                              f'from {self._past_updating_month_list[0]} to {self._past_updating_month_list[-1]}')\n",
    "                        \n",
    "                    if self._future_updating_month_list != []:\n",
    "                        print(f'Updating dataset {self.current_ticker} with future data ' +\\\n",
    "                              f'from {self._future_updating_month_list[0]} to {self._future_updating_month_list[-1]}')\n",
    " \n",
    "                    self._update_save_single_coin()\n",
    "    \n",
    "                else:\n",
    "                    print(f'Refetching instead of updating dataset {self.current_ticker}' +\\\n",
    "                          f'as no matching data file was found in {data_dir}')\n",
    "                    self._refetch_save_single_coin()\n",
    "            else:\n",
    "                self._refetch_save_single_coin()\n",
    "     \n",
    "    \n",
    "    def __fetching_loop(self, iter_list, loop_desc):\n",
    "        df = pd.DataFrame([])      \n",
    "        for _month in tqdm.tqdm(iter_list, desc=loop_desc):\n",
    "            http_error = False\n",
    "            url =  'https://data.binance.vision/data/spot/monthly/klines/' + \\\n",
    "                  f'{self.current_ticker}/{self.freq}/{self.current_ticker}-{self.freq}-{_month}.zip'                \n",
    "            try:\n",
    "                fetched_df = pd.read_csv(url, header=None)\n",
    "            except HTTPError as e:   \n",
    "                print(f'No data available for {self.current_ticker} for {_month}. Fetching no data.')\n",
    "                http_error = True  \n",
    "                \n",
    "            if http_error == False:\n",
    "                if len(df) > 1:   \n",
    "                    df = pd.concat([df, fetched_df])\n",
    "                elif len(df) == 0:\n",
    "                    df = fetched_df.copy()\n",
    "                    \n",
    "        return df\n",
    "                \n",
    "    def _update_save_single_coin(self):\n",
    "        \"\"\" Updating a dataset as follows:\n",
    "        \n",
    "                Fetching past data --> appending saved dataset to past data --> appending future data \n",
    "                --> replacing saved dataset with updated dataset.\n",
    "        \"\"\"\n",
    "        \n",
    "        past_df = self.__fetching_loop(self._past_updating_month_list, \\\n",
    "                            loop_desc=f'Update data with past data of {self.current_ticker}')\n",
    "\n",
    "        read_df = self._read_file_to_update()\n",
    "        future_df = self.__fetching_loop(self._future_updating_month_list, \\\n",
    "                            loop_desc=f'Update data with future data of {self.current_ticker}')\n",
    "        \n",
    "        if len(past_df) != 0:\n",
    "            past_df = self._process_fetched_df(past_df)\n",
    "        if len(future_df) != 0:\n",
    "            future_df = self._process_fetched_df(future_df)\n",
    "        \n",
    "        self.df = pd.concat([past_df, read_df, future_df]) # Also works if some dfs are empty\n",
    "        self._save_df()\n",
    "        \n",
    "    def _refetch_save_single_coin(self):\n",
    "        \"\"\" Functionality for fetching, updating and saving a OHLCV dataset by appending monthly dataframes. \n",
    "        \"\"\"\n",
    "        self.df = self.__fetching_loop(self.global_month_list,\n",
    "                          loop_desc= f'Downloading ticker {self.current_ticker}')\n",
    "\n",
    "        if len(self.df) != 0:\n",
    "            self.df = self._process_fetched_df(self.df)\n",
    "            print(f'Total Nan values: {len(self.df.loc[self.df[\"Open\"].isnull()])}')\n",
    "            self._save_df()\n",
    "        else:\n",
    "            print(f'There is not any data to save for {self.current_ticker}. Skipping the saving')\n",
    "            \n",
    "\n",
    "    def _process_fetched_df(self, df):\n",
    "        fetched_columns = ['Time', 'Open', 'High','Low','Close','Volume',\n",
    "                           'Close Time', 'Quote Asset Vol', 'Num Trades',\n",
    "                           'Taker Buy Base', 'Taker Buy Quote', 'Ignore Column']\n",
    "\n",
    "        dropped_columns = ['Close Time', 'Quote Asset Vol', 'Taker Buy Base', \n",
    "                           'Taker Buy Quote', 'Ignore Column', 'Num Trades']\n",
    "\n",
    "        df.columns = fetched_columns\n",
    "        df.drop(dropped_columns, inplace=True, axis=1)\n",
    "        df['Time'] = pd.to_datetime(df['Time'], unit='ms')\n",
    "        df.set_index('Time', inplace=True)\n",
    "        df = df.asfreq(self.freq_pd) #restore index where there are missing values\n",
    "        \n",
    "        return df\n",
    "    \n",
    "    def _read_file_to_update(self):\n",
    "        file_path_name = f'{self.save_dir}' + '/' + self._updated_file\n",
    "        file_type = file_path_name[-3:]\n",
    "        \n",
    "        try:\n",
    "            if file_type == 'csv':\n",
    "                df = pd.read_csv(file_path_name, index_col='Time') \n",
    "            elif file_type == 'pkl':\n",
    "                df = pd.read_pickle(file_path_name)\n",
    "                self.df.set_index('Time', inplace=True)\n",
    "            else:\n",
    "                raise Exception  \n",
    "        except:\n",
    "            print(f\"Could not find or read the file needed for updating in '{file_path_name}'.\")\n",
    "        \n",
    "        \n",
    "        df.index = pd.to_datetime(df.index) # Datatype to datetime index\n",
    "        df       = df.asfreq(self.freq_pd) # Restoring nan values if they were not saved    \n",
    "\n",
    "        return df\n",
    "\n",
    "    def _save_df(self): \n",
    "        first_available_month = str(self.df.index[0])[:7]\n",
    "        last_available_month = str(self.df.index[-1])[:7]\n",
    "        file_path_name = f'{self.save_dir}/{self.current_coin}_{self.stable_coin}_{self.freq}_' +\\\n",
    "                         f'{first_available_month}-{last_available_month}.{self.file_type}' \n",
    "        # file_path_name --> #'Crypto data/BTCUSDT_1m_2020-01-2022-06.csv'\n",
    "        \n",
    "        if self.file_type == 'csv':\n",
    "            self.df.to_csv(file_path_name) \n",
    "        elif self.file_type == 'pkl':\n",
    "            self.df.to_pickle(file_path_name)\n",
    "        else:\n",
    "            raise Exception  \n",
    "        \n",
    "        # On successful saving: remove old dataset if it was updated\n",
    "        if self.update_data == True :\n",
    "            if self._updated_file: # if _updated_file is defined\n",
    "                os.remove(os.getcwd() + '/' + self.save_dir + '/' + self._updated_file)\n",
    "\n",
    "\n"
   ]
  },
  {
   "cell_type": "markdown",
   "id": "f27fbc46",
   "metadata": {},
   "source": [
    "### Common Notes:\n",
    "    - Remember to backup your data before fetching!\n",
    "    - Binance will not delete any of its data soon. (It still keeps old currencies like BTC since 2017)\n",
    "    - Currently the top 40 currencies of choice are fetched in about 3h!\n",
    "    - It is intended to not fill up nan values on missing data inside data fetcher! \n",
    "    - --> Let this be handled in a custom algorithm in the final software\n",
    "\n",
    "    - Coins are chosen if (MarketCap > 500M and 24hVolume > 25M) are met in https://www.binance.com/en/markets/overview\n",
    "    - All currencies for scalping are also generally profitable for HFT, if (24h Volume > 80.000 and Market Cap > 100 M)\n",
    "    - Check all Binance data in: https://data.binance.vision/?prefix=data/spot/daily/klines/"
   ]
  },
  {
   "cell_type": "markdown",
   "id": "1d9c380e",
   "metadata": {},
   "source": [
    "## Start Fetching via Jupyter"
   ]
  },
  {
   "cell_type": "code",
   "execution_count": 2,
   "id": "06a4cdcf",
   "metadata": {
    "scrolled": true
   },
   "outputs": [],
   "source": [
    "params = {'coins'    : ['ADA','AGIX','ALGO','APT','ARB','ARPA','ATOM','AXS','BNB','BCH','BTC','CFX','DASH','DOGE','DOT','EOS','EDU',\n",
    "                        'ETH','ETC','FET','FIL','FTM','LDO','NEO','ONT', 'OP', 'PEPE','KAVA','LINK','LTC','MASK','MATIC','SAND','SHIB',\n",
    "                        'SOL','STX','SUI','TRX','UNI','VET','WAVES','XMRF','XRP','ZEC'],          \n",
    "          'freq'     : '1m',\n",
    "          'pd_freq'  : '1T',\n",
    "          'file_type'    : 'csv',\n",
    "          'stable_coin'  : 'USDT',\n",
    "          'save_dir'     : 'scalping data',     \n",
    "          'start_date'   : '2015-01-01', \n",
    "          'end_date'     : '2023-05-01',\n",
    "          'update_data'  : True\n",
    "         }\n",
    "\n",
    "# Note: csv to pkl file conversion possible on updating\n",
    "\n",
    "fetcher = Scalping_Dataset_Fetcher(params)\n",
    "fetcher.init_and_run_fetching()\n",
    "del fetcher"
   ]
  },
  {
   "cell_type": "markdown",
   "id": "6885ffd4",
   "metadata": {},
   "source": [
    "## Info: Dealing with Nan values in Processing\n",
    "    "
   ]
  },
  {
   "cell_type": "markdown",
   "id": "a4a41670",
   "metadata": {},
   "source": [
    "### Longest nan value streaks:\n",
    "    - Go up to 5 hours\n",
    "    - Get initiated by transaction blocking\n",
    "    - Solutions: interpolate, cutting data out, replace with Kucoin exchange"
   ]
  },
  {
   "cell_type": "code",
   "execution_count": 220,
   "id": "a2d492ad",
   "metadata": {},
   "outputs": [
    {
     "name": "stdout",
     "output_type": "stream",
     "text": [
      "Legth of nan indexes: 2326 of 1751040\n"
     ]
    },
    {
     "data": {
      "text/plain": [
       "<matplotlib.collections.PathCollection at 0x26c62bafd68>"
      ]
     },
     "execution_count": 220,
     "metadata": {},
     "output_type": "execute_result"
    },
    {
     "data": {
      "image/png": "[encoded data removed]",
      "text/plain": [
       "<Figure size 1728x432 with 1 Axes>"
      ]
     },
     "metadata": {
      "needs_background": "light"
     },
     "output_type": "display_data"
    }
   ],
   "source": [
    "import matplotlib.pyplot as plt\n",
    "fig = plt.figure()\n",
    "fig.set_figwidth(24)\n",
    "fig.set_figheight(6)\n",
    "\n",
    "plt.plot(df['Open'])\n",
    "\n",
    "nan_idx = df.loc[df['Open'].isnull()].index\n",
    "print(f'Legth of nan indexes: {len(nan_idx)} of {len(df)}')\n",
    "df_interpolated = df.interpolate()\n",
    "plt.scatter(x=nan_idx, y=df_interpolated['Open'][nan_idx], color='red');"
   ]
  },
  {
   "cell_type": "code",
   "execution_count": 246,
   "id": "6004e798",
   "metadata": {},
   "outputs": [
    {
     "data": {
      "text/plain": [
       "[<matplotlib.lines.Line2D at 0x26c7ad4d860>]"
      ]
     },
     "execution_count": 246,
     "metadata": {},
     "output_type": "execute_result"
    },
    {
     "data": {
      "image/png": "[encoded data removed]",
      "text/plain": [
       "<Figure size 1728x432 with 1 Axes>"
      ]
     },
     "metadata": {
      "needs_background": "light"
     },
     "output_type": "display_data"
    }
   ],
   "source": [
    "fig = plt.figure()\n",
    "fig.set_figwidth(24)\n",
    "fig.set_figheight(6)\n",
    "plt.plot(df['Open']['2020-12-21 10:00': '2020-12-21 19:00']);"
   ]
  },
  {
   "cell_type": "markdown",
   "id": "a06d7bee",
   "metadata": {},
   "source": [
    "### Interpolation:\n",
    "    - Wrong data for ML models\n",
    "    - Simple"
   ]
  },
  {
   "cell_type": "code",
   "execution_count": 247,
   "id": "51632f6a",
   "metadata": {},
   "outputs": [
    {
     "data": {
      "text/plain": [
       "[<matplotlib.lines.Line2D at 0x26c7adbb240>]"
      ]
     },
     "execution_count": 247,
     "metadata": {},
     "output_type": "execute_result"
    },
    {
     "data": {
      "image/png": "[encoded data removed]",
      "text/plain": [
       "<Figure size 1728x432 with 1 Axes>"
      ]
     },
     "metadata": {
      "needs_background": "light"
     },
     "output_type": "display_data"
    }
   ],
   "source": [
    "fig = plt.figure()\n",
    "fig.set_figwidth(24)\n",
    "fig.set_figheight(6)\n",
    "\n",
    "df_interpolated = df.interpolate()\n",
    "plt.plot(df_interpolated['Open']['2020-12-21 10:00': '2020-12-21 19:00'])"
   ]
  },
  {
   "cell_type": "markdown",
   "id": "3a504bad",
   "metadata": {},
   "source": [
    "### Cutting Missing Data out:\n",
    "    - Simple\n",
    "    - Less wrong data for ML models\n",
    "    - Still flat lines before nan values (These are transaction blocks)"
   ]
  },
  {
   "cell_type": "code",
   "execution_count": 348,
   "id": "34fd4baa",
   "metadata": {},
   "outputs": [
    {
     "data": {
      "text/plain": [
       "[<matplotlib.lines.Line2D at 0x26c748d0a58>]"
      ]
     },
     "execution_count": 348,
     "metadata": {},
     "output_type": "execute_result"
    },
    {
     "data": {
      "image/png": "[encoded data removed]",
      "text/plain": [
       "<Figure size 1728x432 with 1 Axes>"
      ]
     },
     "metadata": {
      "needs_background": "light"
     },
     "output_type": "display_data"
    }
   ],
   "source": [
    "fig = plt.figure()\n",
    "fig.set_figwidth(24)\n",
    "fig.set_figheight(6)\n",
    "\n",
    "series = pd.Series(df_['Open'][511800:512049].append(df_['Open'][512280:512340]))\n",
    "series.index = np.arange(len(series))\n",
    "plt.plot(series)"
   ]
  },
  {
   "cell_type": "markdown",
   "id": "1c20a6aa",
   "metadata": {},
   "source": [
    "### Replacing Data with Kucoin Exchange:\n",
    "    - Very cumbersome algorithm\n",
    "    - Hard maintaining, hard understanding of impact on data quality for research\n",
    "    - Longer maintaining time\n",
    "    - No exact volume data; still 0\n",
    "    - Matches OHLC values of Binance very closly with a similar plot\n",
    "    \n",
    "--> Can in fact be a viable solution with additional inputing to flat lines <br>\n",
    "--> However, it is not worth it for this few nan values due its complexity. "
   ]
  },
  {
   "cell_type": "markdown",
   "id": "b4566441",
   "metadata": {},
   "source": [
    "## Final Recommended Method: Cut Missing and Flat Line Data Out\n",
    "    - Simple, very understandable\n",
    "    - Viable for research\n",
    "    - No disrupting patterns for ML\n",
    "    - Mostly no price jumps\n",
    "    - Plotting libraries will just interpolate"
   ]
  },
  {
   "cell_type": "markdown",
   "id": "62e30501",
   "metadata": {},
   "source": [
    "## Examples:"
   ]
  },
  {
   "cell_type": "markdown",
   "id": "09d57f5b",
   "metadata": {},
   "source": [
    "### Reading Data in Correctly:"
   ]
  },
  {
   "cell_type": "code",
   "execution_count": 4,
   "id": "d64bf899",
   "metadata": {},
   "outputs": [
    {
     "data": {
      "text/html": [
       "<div>\n",
       "<style scoped>\n",
       "    .dataframe tbody tr th:only-of-type {\n",
       "        vertical-align: middle;\n",
       "    }\n",
       "\n",
       "    .dataframe tbody tr th {\n",
       "        vertical-align: top;\n",
       "    }\n",
       "\n",
       "    .dataframe thead th {\n",
       "        text-align: right;\n",
       "    }\n",
       "</style>\n",
       "<table border=\"1\" class=\"dataframe\">\n",
       "  <thead>\n",
       "    <tr style=\"text-align: right;\">\n",
       "      <th></th>\n",
       "      <th>Open</th>\n",
       "      <th>High</th>\n",
       "      <th>Low</th>\n",
       "      <th>Close</th>\n",
       "      <th>Volume</th>\n",
       "    </tr>\n",
       "    <tr>\n",
       "      <th>Time</th>\n",
       "      <th></th>\n",
       "      <th></th>\n",
       "      <th></th>\n",
       "      <th></th>\n",
       "      <th></th>\n",
       "    </tr>\n",
       "  </thead>\n",
       "  <tbody>\n",
       "    <tr>\n",
       "      <th>2018-04-17 04:02:00</th>\n",
       "      <td>0.25551</td>\n",
       "      <td>0.27000</td>\n",
       "      <td>0.25551</td>\n",
       "      <td>0.27000</td>\n",
       "      <td>111061.62</td>\n",
       "    </tr>\n",
       "    <tr>\n",
       "      <th>2018-04-17 04:03:00</th>\n",
       "      <td>0.27000</td>\n",
       "      <td>0.27000</td>\n",
       "      <td>0.26100</td>\n",
       "      <td>0.26108</td>\n",
       "      <td>65024.98</td>\n",
       "    </tr>\n",
       "    <tr>\n",
       "      <th>2018-04-17 04:04:00</th>\n",
       "      <td>0.26121</td>\n",
       "      <td>0.26729</td>\n",
       "      <td>0.26120</td>\n",
       "      <td>0.26666</td>\n",
       "      <td>92526.73</td>\n",
       "    </tr>\n",
       "    <tr>\n",
       "      <th>2018-04-17 04:05:00</th>\n",
       "      <td>0.26700</td>\n",
       "      <td>0.26800</td>\n",
       "      <td>0.26500</td>\n",
       "      <td>0.26666</td>\n",
       "      <td>75961.21</td>\n",
       "    </tr>\n",
       "    <tr>\n",
       "      <th>2018-04-17 04:06:00</th>\n",
       "      <td>0.26770</td>\n",
       "      <td>0.26998</td>\n",
       "      <td>0.26700</td>\n",
       "      <td>0.26995</td>\n",
       "      <td>362270.32</td>\n",
       "    </tr>\n",
       "    <tr>\n",
       "      <th>...</th>\n",
       "      <td>...</td>\n",
       "      <td>...</td>\n",
       "      <td>...</td>\n",
       "      <td>...</td>\n",
       "      <td>...</td>\n",
       "    </tr>\n",
       "    <tr>\n",
       "      <th>2023-04-30 23:55:00</th>\n",
       "      <td>0.39730</td>\n",
       "      <td>0.39730</td>\n",
       "      <td>0.39680</td>\n",
       "      <td>0.39710</td>\n",
       "      <td>70150.70</td>\n",
       "    </tr>\n",
       "    <tr>\n",
       "      <th>2023-04-30 23:56:00</th>\n",
       "      <td>0.39700</td>\n",
       "      <td>0.39700</td>\n",
       "      <td>0.39680</td>\n",
       "      <td>0.39680</td>\n",
       "      <td>19070.00</td>\n",
       "    </tr>\n",
       "    <tr>\n",
       "      <th>2023-04-30 23:57:00</th>\n",
       "      <td>0.39690</td>\n",
       "      <td>0.39690</td>\n",
       "      <td>0.39640</td>\n",
       "      <td>0.39640</td>\n",
       "      <td>132369.60</td>\n",
       "    </tr>\n",
       "    <tr>\n",
       "      <th>2023-04-30 23:58:00</th>\n",
       "      <td>0.39650</td>\n",
       "      <td>0.39660</td>\n",
       "      <td>0.39580</td>\n",
       "      <td>0.39620</td>\n",
       "      <td>367639.30</td>\n",
       "    </tr>\n",
       "    <tr>\n",
       "      <th>2023-04-30 23:59:00</th>\n",
       "      <td>0.39620</td>\n",
       "      <td>0.39630</td>\n",
       "      <td>0.39500</td>\n",
       "      <td>0.39560</td>\n",
       "      <td>280116.30</td>\n",
       "    </tr>\n",
       "  </tbody>\n",
       "</table>\n",
       "<p>2649358 rows × 5 columns</p>\n",
       "</div>"
      ],
      "text/plain": [
       "                        Open     High      Low    Close     Volume\n",
       "Time                                                              \n",
       "2018-04-17 04:02:00  0.25551  0.27000  0.25551  0.27000  111061.62\n",
       "2018-04-17 04:03:00  0.27000  0.27000  0.26100  0.26108   65024.98\n",
       "2018-04-17 04:04:00  0.26121  0.26729  0.26120  0.26666   92526.73\n",
       "2018-04-17 04:05:00  0.26700  0.26800  0.26500  0.26666   75961.21\n",
       "2018-04-17 04:06:00  0.26770  0.26998  0.26700  0.26995  362270.32\n",
       "...                      ...      ...      ...      ...        ...\n",
       "2023-04-30 23:55:00  0.39730  0.39730  0.39680  0.39710   70150.70\n",
       "2023-04-30 23:56:00  0.39700  0.39700  0.39680  0.39680   19070.00\n",
       "2023-04-30 23:57:00  0.39690  0.39690  0.39640  0.39640  132369.60\n",
       "2023-04-30 23:58:00  0.39650  0.39660  0.39580  0.39620  367639.30\n",
       "2023-04-30 23:59:00  0.39620  0.39630  0.39500  0.39560  280116.30\n",
       "\n",
       "[2649358 rows x 5 columns]"
      ]
     },
     "execution_count": 4,
     "metadata": {},
     "output_type": "execute_result"
    }
   ],
   "source": [
    "df = pd.read_csv('scalping data/ADA_USDT_1m_2018-04-2023-04.csv', index_col='Time')\n",
    "\n",
    "\n",
    "df.index = pd.to_datetime(df.index) # Datatype to datetime index\n",
    "df       = df.asfreq('1T') # Restoring nan values if they were not saved \n",
    "__nan_idx = df.loc[df['Open'].isnull()].index\n",
    "df.fillna(method='ffill', inplace=True) # Flat line interpolating\n",
    "   \n",
    "\n",
    "df"
   ]
  },
  {
   "cell_type": "markdown",
   "id": "a37c7314",
   "metadata": {},
   "source": [
    "### Cut Out Missing Data and Flat Lines:\n",
    "\n",
    "    Where consecutive values are equal to each other for at least 45 values data will be cut out\n",
    "    \n",
    "    Transaction stops and following shutdowns last usually more than 30 min each in Binance.\n",
    "    \n",
    "    The algorithm may filter flat lines for a currency's starting run\n",
    "    (but only if the currency has generally a very low trading volume).\n",
    "    This was not observed for the considered currencies."
   ]
  },
  {
   "cell_type": "code",
   "execution_count": 175,
   "id": "aeb6c5a2",
   "metadata": {},
   "outputs": [
    {
     "name": "stdout",
     "output_type": "stream",
     "text": [
      "Num of Nans: 2326\n",
      "Num of flatline datapoints: 2526\n",
      "2526 stays for max_flatline_len [15;60]\n"
     ]
    }
   ],
   "source": [
    "max_flatline_len = 45 \n",
    "\n",
    "# Taking Volume to avoid natural flatlines and to detect real transaction stops\n",
    "cum_count = df.groupby(( df['Volume'] != df['Volume'].shift(1) ).cumsum()).cumcount()+1 # count of consecutie Volume occurences \n",
    "\n",
    "# Replace numbers below 'max_flatline_len' with np.nan and backfill with number of 'max_flatline_len'\n",
    "cum_count.replace(range(1,max_flatline_len+1), np.NaN, inplace=True) \n",
    "cum_count.fillna(method='bfill', limit=max_flatline_len-1, inplace=True)  \n",
    "\n",
    "print(f'Num of Nans: {len(__nan_idx)}')\n",
    "print(f'Num of flatline datapoints: {len(cum_count.dropna())}')\n",
    "print(f'{2526} stays for max_flatline_len [15;60]')\n",
    "\n",
    "filtered_idx = cum_count.dropna().index\n",
    "df.drop(index=filtered_idx, inplace=True)\n",
    "#df"
   ]
  },
  {
   "cell_type": "markdown",
   "id": "8a72b2f5",
   "metadata": {},
   "source": [
    "## Create a Training Subset of the Fetched Datasets\n",
    "    - Uniform datasets with the same length are prefered for experiments\n",
    "        --> Comparibility of results, currency dependent deviations\n",
    "    - They also should be long enough for a robust ML training \n",
    "    - But they may be shorter for faster training and for more representative data for testing\n",
    "\n",
    "    - Solution:\n",
    "        - Pick all datasets of a minimum length from every available file\n",
    "        - clip them at a specific time \n",
    "        - and save the subset in another directory"
   ]
  },
  {
   "cell_type": "code",
   "execution_count": 52,
   "id": "b2356a3e",
   "metadata": {},
   "outputs": [],
   "source": [
    "class Dataset_Subset_Extractor:\n",
    "    def __init__(self, extractor_params):\n",
    "        self.start_date   = extractor_params['start_date'] \n",
    "        self.end_date     = extractor_params['end_date'  ] \n",
    "        self.data_dir     = extractor_params['data_dir'  ] \n",
    "        self.save_dir     = extractor_params['save_dir'  ] \n",
    "        self.file_type    = extractor_params['file_type' ] \n",
    "        self.freq         = extractor_params['freq'      ]\n",
    "        self.freq_pd      = extractor_params['pd_freq'   ] \n",
    "        \n",
    "    def extract_from_all(self):\n",
    "        data_dir = os.getcwd() + '/' + self.data_dir\n",
    "        file_names = [(i, j, file_names) for i, j , file_names in os.walk(data_dir)][0][2] # -->  ['BTC_USDT_1m_2020-01-2022-06', ...]\n",
    "        found_files = [fn for fn in file_names \\\n",
    "                          if ('_'+self.freq+'_' in fn)]\n",
    "        for fn in tqdm.tqdm(found_files, desc='Extracting dataset subsets'):\n",
    "            self.df   = self._read_file_to_extract(fn)\n",
    "            try: \n",
    "                idx_start = self.df[self.start_date].index[ 0]\n",
    "                idx_end   = self.df[self.end_date  ].index[-1]\n",
    "                self.df   = self.df[idx_start:idx_end]\n",
    "                print(f'Extracting dataset subset from {fn}')\n",
    "            except KeyError:\n",
    "                print(f'Not extracting dataset subset from {fn}. Subset too small')\n",
    "                continue\n",
    "\n",
    "            self._save_df(fn)\n",
    "            \n",
    "           \n",
    "        \n",
    "    def _read_file_to_extract(self, fn):\n",
    "        file_path_name = f'{self.data_dir}' + '/' + fn\n",
    "        file_type = fn[-3:]\n",
    "        try:\n",
    "            if file_type == 'csv':\n",
    "                df = pd.read_csv(file_path_name, index_col='Time') \n",
    "            elif file_type == 'pkl':\n",
    "                df = pd.read_pickle(file_path_name)\n",
    "                self.df.set_index('Time', inplace=True)\n",
    "            else:\n",
    "                raise Exception  \n",
    "        except:\n",
    "            print(f\"Could not find or read the file needed for updating in '{file_path_name}'.\")\n",
    "\n",
    "\n",
    "        df.index = pd.to_datetime(df.index) # Datatype to datetime index\n",
    "        df       = df.asfreq(self.freq_pd) # Restoring nan values if they were not saved    \n",
    "\n",
    "        return df\n",
    "\n",
    "    \n",
    "    def _save_df(self, fn): \n",
    "        first_available_month = str(self.df.index[0])[:7]\n",
    "        last_available_month = str(self.df.index[-1])[:7]\n",
    "        fn_split = fn.split('_')\n",
    "        coin, stable_coin, freq = fn_split[:3]\n",
    "        \n",
    "        file_path_name = f'{self.save_dir}/{coin}_{stable_coin}_{freq}_' +\\\n",
    "                         f'{first_available_month}-{last_available_month}.{self.file_type}' \n",
    "        # file_path_name --> #'Crypto data/BTCUSDT_1m_2020-01-2022-06.csv'\n",
    "        \n",
    "        if self.file_type == 'csv':\n",
    "            self.df.to_csv(file_path_name) \n",
    "        elif self.file_type == 'pkl':\n",
    "            self.df.to_pickle(file_path_name)\n",
    "        else:\n",
    "            raise Exception  \n",
    "        \n",
    "    "
   ]
  },
  {
   "cell_type": "code",
   "execution_count": 53,
   "id": "d0ac88a1",
   "metadata": {},
   "outputs": [
    {
     "name": "stderr",
     "output_type": "stream",
     "text": [
      "\r",
      "Extracting dataset subsets:   0%|                                                               | 0/39 [00:00<?, ?it/s]"
     ]
    },
    {
     "name": "stdout",
     "output_type": "stream",
     "text": [
      "Extracting dataset subset from ADA_USDT_1m_2018-04-2023-04.csv\n"
     ]
    },
    {
     "name": "stderr",
     "output_type": "stream",
     "text": [
      "Extracting dataset subsets:   5%|██▊                                                    | 2/39 [00:23<05:56,  9.65s/it]"
     ]
    },
    {
     "name": "stdout",
     "output_type": "stream",
     "text": [
      "Not extracting dataset subset from AGIX_USDT_1m_2023-02-2023-04.csv. Subset too small\n",
      "Extracting dataset subset from ALGO_USDT_1m_2019-06-2023-04.csv\n"
     ]
    },
    {
     "name": "stderr",
     "output_type": "stream",
     "text": [
      "Extracting dataset subsets:  10%|█████▋                                                 | 4/39 [00:41<04:51,  8.32s/it]"
     ]
    },
    {
     "name": "stdout",
     "output_type": "stream",
     "text": [
      "Not extracting dataset subset from APT_USDT_1m_2022-10-2023-04.csv. Subset too small\n",
      "Not extracting dataset subset from ARB_USDT_1m_2023-03-2023-04.csv. Subset too small\n",
      "Extracting dataset subset from ARPA_USDT_1m_2019-11-2023-04.csv\n"
     ]
    },
    {
     "name": "stderr",
     "output_type": "stream",
     "text": [
      "\r",
      "Extracting dataset subsets:  15%|████████▍                                              | 6/39 [01:04<05:22,  9.78s/it]"
     ]
    },
    {
     "name": "stdout",
     "output_type": "stream",
     "text": [
      "Extracting dataset subset from ATOM_USDT_1m_2019-04-2023-04.csv\n"
     ]
    },
    {
     "name": "stderr",
     "output_type": "stream",
     "text": [
      "Extracting dataset subsets:  21%|███████████▎                                           | 8/39 [01:28<05:12, 10.10s/it]"
     ]
    },
    {
     "name": "stdout",
     "output_type": "stream",
     "text": [
      "Not extracting dataset subset from AXS_USDT_1m_2020-11-2023-04.csv. Subset too small\n",
      "Extracting dataset subset from BNB_USDT_1m_2017-11-2023-04.csv\n"
     ]
    },
    {
     "name": "stderr",
     "output_type": "stream",
     "text": [
      "\r",
      "Extracting dataset subsets:  23%|████████████▋                                          | 9/39 [01:51<06:55, 13.85s/it]"
     ]
    },
    {
     "name": "stdout",
     "output_type": "stream",
     "text": [
      "Extracting dataset subset from BCH_USDT_1m_2019-11-2023-04.csv\n"
     ]
    },
    {
     "name": "stderr",
     "output_type": "stream",
     "text": [
      "\r",
      "Extracting dataset subsets:  26%|█████████████▊                                        | 10/39 [02:11<07:35, 15.72s/it]"
     ]
    },
    {
     "name": "stdout",
     "output_type": "stream",
     "text": [
      "Extracting dataset subset from BTC_USDT_1m_2017-08-2023-04.csv\n"
     ]
    },
    {
     "name": "stderr",
     "output_type": "stream",
     "text": [
      "Extracting dataset subsets:  31%|████████████████▌                                     | 12/39 [02:39<06:10, 13.72s/it]"
     ]
    },
    {
     "name": "stdout",
     "output_type": "stream",
     "text": [
      "Not extracting dataset subset from CFX_USDT_1m_2021-03-2023-04.csv. Subset too small\n",
      "Extracting dataset subset from DASH_USDT_1m_2019-03-2023-04.csv\n"
     ]
    },
    {
     "name": "stderr",
     "output_type": "stream",
     "text": [
      "\r",
      "Extracting dataset subsets:  33%|██████████████████                                    | 13/39 [02:59<06:45, 15.60s/it]"
     ]
    },
    {
     "name": "stdout",
     "output_type": "stream",
     "text": [
      "Extracting dataset subset from DOGE_USDT_1m_2019-07-2023-04.csv\n"
     ]
    },
    {
     "name": "stderr",
     "output_type": "stream",
     "text": [
      "Extracting dataset subsets:  38%|████████████████████▊                                 | 15/39 [03:26<05:27, 13.65s/it]"
     ]
    },
    {
     "name": "stdout",
     "output_type": "stream",
     "text": [
      "Not extracting dataset subset from DOT_USDT_1m_2020-08-2023-04.csv. Subset too small\n",
      "Extracting dataset subset from EOS_USDT_1m_2018-05-2023-04.csv\n"
     ]
    },
    {
     "name": "stderr",
     "output_type": "stream",
     "text": [
      "\r",
      "Extracting dataset subsets:  41%|██████████████████████▏                               | 16/39 [03:48<06:11, 16.15s/it]"
     ]
    },
    {
     "name": "stdout",
     "output_type": "stream",
     "text": [
      "Not extracting dataset subset from EDU_USDT_1m_2023-04-2023-04.csv. Subset too small\n",
      "Extracting dataset subset from ETH_USDT_1m_2017-08-2023-04.csv\n"
     ]
    },
    {
     "name": "stderr",
     "output_type": "stream",
     "text": [
      "\r",
      "Extracting dataset subsets:  46%|████████████████████████▉                             | 18/39 [04:12<04:58, 14.20s/it]"
     ]
    },
    {
     "name": "stdout",
     "output_type": "stream",
     "text": [
      "Extracting dataset subset from ETC_USDT_1m_2018-06-2023-04.csv\n"
     ]
    },
    {
     "name": "stderr",
     "output_type": "stream",
     "text": [
      "\r",
      "Extracting dataset subsets:  49%|██████████████████████████▎                           | 19/39 [04:34<05:20, 16.01s/it]"
     ]
    },
    {
     "name": "stdout",
     "output_type": "stream",
     "text": [
      "Extracting dataset subset from FET_USDT_1m_2019-02-2023-04.csv\n"
     ]
    },
    {
     "name": "stderr",
     "output_type": "stream",
     "text": [
      "Extracting dataset subsets:  54%|█████████████████████████████                         | 21/39 [04:58<04:03, 13.51s/it]"
     ]
    },
    {
     "name": "stdout",
     "output_type": "stream",
     "text": [
      "Not extracting dataset subset from FIL_USDT_1m_2020-10-2023-04.csv. Subset too small\n",
      "Extracting dataset subset from FTM_USDT_1m_2019-06-2023-04.csv\n"
     ]
    },
    {
     "name": "stderr",
     "output_type": "stream",
     "text": [
      "Extracting dataset subsets:  59%|███████████████████████████████▊                      | 23/39 [05:22<03:06, 11.68s/it]"
     ]
    },
    {
     "name": "stdout",
     "output_type": "stream",
     "text": [
      "Not extracting dataset subset from LDO_USDT_1m_2022-05-2023-04.csv. Subset too small\n",
      "Extracting dataset subset from NEO_USDT_1m_2017-11-2023-04.csv\n"
     ]
    },
    {
     "name": "stderr",
     "output_type": "stream",
     "text": [
      "\r",
      "Extracting dataset subsets:  62%|█████████████████████████████████▏                    | 24/39 [05:44<03:42, 14.81s/it]"
     ]
    },
    {
     "name": "stdout",
     "output_type": "stream",
     "text": [
      "Extracting dataset subset from ONT_USDT_1m_2018-06-2023-04.csv\n"
     ]
    },
    {
     "name": "stderr",
     "output_type": "stream",
     "text": [
      "\r",
      "Extracting dataset subsets:  64%|██████████████████████████████████▌                   | 25/39 [06:06<03:54, 16.73s/it]"
     ]
    },
    {
     "name": "stdout",
     "output_type": "stream",
     "text": [
      "Extracting dataset subset from KAVA_USDT_1m_2019-10-2023-04.csv\n"
     ]
    },
    {
     "name": "stderr",
     "output_type": "stream",
     "text": [
      "\r",
      "Extracting dataset subsets:  67%|████████████████████████████████████                  | 26/39 [06:27<03:57, 18.23s/it]"
     ]
    },
    {
     "name": "stdout",
     "output_type": "stream",
     "text": [
      "Extracting dataset subset from LINK_USDT_1m_2019-01-2023-04.csv\n"
     ]
    },
    {
     "name": "stderr",
     "output_type": "stream",
     "text": [
      "\r",
      "Extracting dataset subsets:  69%|█████████████████████████████████████▍                | 27/39 [06:49<03:50, 19.21s/it]"
     ]
    },
    {
     "name": "stdout",
     "output_type": "stream",
     "text": [
      "Extracting dataset subset from LTC_USDT_1m_2017-12-2023-04.csv\n"
     ]
    },
    {
     "name": "stderr",
     "output_type": "stream",
     "text": [
      "Extracting dataset subsets:  74%|████████████████████████████████████████▏             | 29/39 [07:13<02:26, 14.61s/it]"
     ]
    },
    {
     "name": "stdout",
     "output_type": "stream",
     "text": [
      "Not extracting dataset subset from MASK_USDT_1m_2021-05-2023-04.csv. Subset too small\n",
      "Extracting dataset subset from MATIC_USDT_1m_2019-04-2023-04.csv\n"
     ]
    },
    {
     "name": "stderr",
     "output_type": "stream",
     "text": [
      "Extracting dataset subsets:  79%|██████████████████████████████████████████▉           | 31/39 [07:38<01:42, 12.81s/it]"
     ]
    },
    {
     "name": "stdout",
     "output_type": "stream",
     "text": [
      "Not extracting dataset subset from SAND_USDT_1m_2020-08-2023-04.csv. Subset too small\n"
     ]
    },
    {
     "name": "stderr",
     "output_type": "stream",
     "text": [
      "\r",
      "Extracting dataset subsets:  82%|████████████████████████████████████████████▎         | 32/39 [07:41<01:07,  9.68s/it]"
     ]
    },
    {
     "name": "stdout",
     "output_type": "stream",
     "text": [
      "Not extracting dataset subset from SHIB_USDT_1m_2021-05-2023-04.csv. Subset too small\n"
     ]
    },
    {
     "name": "stderr",
     "output_type": "stream",
     "text": [
      "\r",
      "Extracting dataset subsets:  85%|█████████████████████████████████████████████▋        | 33/39 [07:43<00:45,  7.59s/it]"
     ]
    },
    {
     "name": "stdout",
     "output_type": "stream",
     "text": [
      "Not extracting dataset subset from SOL_USDT_1m_2020-08-2023-04.csv. Subset too small\n",
      "Extracting dataset subset from TRX_USDT_1m_2018-06-2023-04.csv\n"
     ]
    },
    {
     "name": "stderr",
     "output_type": "stream",
     "text": [
      "Extracting dataset subsets:  90%|████████████████████████████████████████████████▍     | 35/39 [08:12<00:39,  9.91s/it]"
     ]
    },
    {
     "name": "stdout",
     "output_type": "stream",
     "text": [
      "Not extracting dataset subset from UNI_USDT_1m_2020-09-2023-04.csv. Subset too small\n",
      "Extracting dataset subset from VET_USDT_1m_2018-07-2023-04.csv\n"
     ]
    },
    {
     "name": "stderr",
     "output_type": "stream",
     "text": [
      "\r",
      "Extracting dataset subsets:  92%|█████████████████████████████████████████████████▊    | 36/39 [08:38<00:44, 14.90s/it]"
     ]
    },
    {
     "name": "stdout",
     "output_type": "stream",
     "text": [
      "Extracting dataset subset from WAVES_USDT_1m_2019-01-2023-04.csv\n"
     ]
    },
    {
     "name": "stderr",
     "output_type": "stream",
     "text": [
      "\r",
      "Extracting dataset subsets:  95%|███████████████████████████████████████████████████▏  | 37/39 [09:00<00:33, 16.88s/it]"
     ]
    },
    {
     "name": "stdout",
     "output_type": "stream",
     "text": [
      "Extracting dataset subset from XRP_USDT_1m_2018-05-2023-04.csv\n"
     ]
    },
    {
     "name": "stderr",
     "output_type": "stream",
     "text": [
      "\r",
      "Extracting dataset subsets:  97%|████████████████████████████████████████████████████▌ | 38/39 [09:23<00:18, 18.87s/it]"
     ]
    },
    {
     "name": "stdout",
     "output_type": "stream",
     "text": [
      "Extracting dataset subset from ZEC_USDT_1m_2019-03-2023-04.csv\n"
     ]
    },
    {
     "name": "stderr",
     "output_type": "stream",
     "text": [
      "Extracting dataset subsets: 100%|██████████████████████████████████████████████████████| 39/39 [09:44<00:00, 14.97s/it]\n"
     ]
    }
   ],
   "source": [
    "params = {'freq'     : '1m',\n",
    "          'pd_freq'  : '1T',\n",
    "          'file_type'    : 'csv',\n",
    "          'data_dir'     : 'scalping data', \n",
    "          'save_dir'     : 'ExperATAI scalping data',     \n",
    "          'start_date'   : '2020-01', \n",
    "          'end_date'     : '2023-04', # '2023-04' if current date is 29.05.2023!\n",
    "         }\n",
    "\n",
    "# Note: csv to pkl file conversion possible on extracting\n",
    "\n",
    "extractor = Dataset_Subset_Extractor(params)\n",
    "extractor.extract_from_all()\n",
    "del extractor"
   ]
  },
  {
   "cell_type": "markdown",
   "id": "e6c37ca8",
   "metadata": {},
   "source": [
    "## Fetching Secondly Data\n",
    "    - Fetch and save annually as of high RAM requirements\n",
    "    - Saving in Pickle files for speed and saving disk space\n",
    "    - Data may be useful later for showing off/ for analysis\n",
    "    \n",
    "    - If more RAM available, do concat these files"
   ]
  },
  {
   "cell_type": "code",
   "execution_count": 186,
   "id": "2fab1603",
   "metadata": {
    "scrolled": false
   },
   "outputs": [
    {
     "name": "stdout",
     "output_type": "stream",
     "text": [
      "2023-05\n",
      "['2023-01', '2023-02', '2023-03', '2023-04', '2023-05', '2023-06', '2023-07', '2023-08', '2023-09', '2023-10', '2023-11', '2023-12']\n",
      "['2023-01', '2023-02', '2023-03', '2023-04']\n"
     ]
    },
    {
     "name": "stderr",
     "output_type": "stream",
     "text": [
      "Downloading for all tickers:   0%|                                                               | 0/1 [00:00<?, ?it/s]\n",
      "Download ticker months of BTCUSDT:   0%|                                                         | 0/4 [00:00<?, ?it/s]\u001b[A\n",
      "Download ticker months of BTCUSDT:  25%|████████████▎                                    | 1/4 [00:13<00:39, 13.01s/it]\u001b[A\n",
      "Download ticker months of BTCUSDT:  50%|████████████████████████▌                        | 2/4 [00:25<00:25, 12.70s/it]\u001b[A\n",
      "Download ticker months of BTCUSDT:  75%|████████████████████████████████████▊            | 3/4 [00:38<00:13, 13.06s/it]\u001b[A\n",
      "Download ticker months of BTCUSDT: 100%|█████████████████████████████████████████████████| 4/4 [00:50<00:00, 12.63s/it]\u001b[A\n"
     ]
    },
    {
     "name": "stdout",
     "output_type": "stream",
     "text": [
      "Total Nan values: 8771\n"
     ]
    },
    {
     "name": "stderr",
     "output_type": "stream",
     "text": [
      "Downloading for all tickers: 100%|███████████████████████████████████████████████████████| 1/1 [00:55<00:00, 55.42s/it]\n"
     ]
    }
   ],
   "source": [
    "fetched_coins = ['BTC', 'ADA', 'DOGE', 'ETH', 'BNB', 'XRP']\n",
    "for c in fetched_coins:\n",
    "    for i in range(2023, 2023 + 1): # Save yearly beacause of RAM requirements\n",
    "        params = {'coins' : [c], \n",
    "                  'freq'  : '1s',\n",
    "                  'pd_freq'  : '1S',\n",
    "                  #['ADA','ALGO','ARPA','ATOM','AXS','BNB','BCH','BTC','CFX','DOGE','DOT','EDU','EOS','ETC','ETH','FET',\n",
    "                  #'FIL','FTM','LDO','NEO','ONT','KAVA','LINK','LTC','MATIC','SAND','SOL','SHIB','TRX','UNI','VET','XMRF',\n",
    "                  #'XRP','ZEC']  \n",
    "                  'stable_coin'  : 'USDT',\n",
    "                  'save_dir'     : 'scalping data',  \n",
    "                  'file_type'    : 'pkl',\n",
    "                  'start_date'   : f'{i}-01-01', \n",
    "                  'end_date'     : f'{i}-12-01'\n",
    "                 }\n",
    "\n",
    "        fetcher = Scalping_Dataset_Fetcher(params)\n",
    "        fetcher.init_and_run_fetching()\n",
    "        \n",
    "del fetcher # freeing RAM"
   ]
  },
  {
   "cell_type": "code",
   "execution_count": null,
   "id": "4b623c88",
   "metadata": {},
   "outputs": [],
   "source": [
    "def concat files"
   ]
  },
  {
   "cell_type": "code",
   "execution_count": null,
   "id": "9e0a7540",
   "metadata": {},
   "outputs": [],
   "source": [
    "# TODO: concat files "
   ]
  },
  {
   "cell_type": "code",
   "execution_count": 10,
   "id": "5158b353",
   "metadata": {},
   "outputs": [
    {
     "data": {
      "text/html": [
       "<div>\n",
       "<style scoped>\n",
       "    .dataframe tbody tr th:only-of-type {\n",
       "        vertical-align: middle;\n",
       "    }\n",
       "\n",
       "    .dataframe tbody tr th {\n",
       "        vertical-align: top;\n",
       "    }\n",
       "\n",
       "    .dataframe thead th {\n",
       "        text-align: right;\n",
       "    }\n",
       "</style>\n",
       "<table border=\"1\" class=\"dataframe\">\n",
       "  <thead>\n",
       "    <tr style=\"text-align: right;\">\n",
       "      <th></th>\n",
       "      <th>Open</th>\n",
       "      <th>High</th>\n",
       "      <th>Low</th>\n",
       "      <th>Close</th>\n",
       "      <th>Volume</th>\n",
       "    </tr>\n",
       "    <tr>\n",
       "      <th>Time</th>\n",
       "      <th></th>\n",
       "      <th></th>\n",
       "      <th></th>\n",
       "      <th></th>\n",
       "      <th></th>\n",
       "    </tr>\n",
       "  </thead>\n",
       "  <tbody>\n",
       "    <tr>\n",
       "      <th>2018-04-17 04:04:00</th>\n",
       "      <td>0.26121</td>\n",
       "      <td>0.26729</td>\n",
       "      <td>0.2612</td>\n",
       "      <td>0.26666</td>\n",
       "      <td>92526.73</td>\n",
       "    </tr>\n",
       "    <tr>\n",
       "      <th>2018-04-17 04:05:00</th>\n",
       "      <td>0.26700</td>\n",
       "      <td>0.26800</td>\n",
       "      <td>0.2650</td>\n",
       "      <td>0.26666</td>\n",
       "      <td>75961.21</td>\n",
       "    </tr>\n",
       "    <tr>\n",
       "      <th>2018-04-17 04:06:00</th>\n",
       "      <td>0.26770</td>\n",
       "      <td>0.26998</td>\n",
       "      <td>0.2670</td>\n",
       "      <td>0.26995</td>\n",
       "      <td>362270.32</td>\n",
       "    </tr>\n",
       "  </tbody>\n",
       "</table>\n",
       "</div>"
      ],
      "text/plain": [
       "                        Open     High     Low    Close     Volume\n",
       "Time                                                             \n",
       "2018-04-17 04:04:00  0.26121  0.26729  0.2612  0.26666   92526.73\n",
       "2018-04-17 04:05:00  0.26700  0.26800  0.2650  0.26666   75961.21\n",
       "2018-04-17 04:06:00  0.26770  0.26998  0.2670  0.26995  362270.32"
      ]
     },
     "execution_count": 10,
     "metadata": {},
     "output_type": "execute_result"
    }
   ],
   "source": [
    "df = df['2018-04-17 04:04:00' : '2018-04-17 04:06:00']\n",
    "df"
   ]
  },
  {
   "cell_type": "code",
   "execution_count": null,
   "id": "41ec327c",
   "metadata": {},
   "outputs": [],
   "source": [
    "except Key"
   ]
  },
  {
   "cell_type": "code",
   "execution_count": 6,
   "id": "a8eae9e4",
   "metadata": {},
   "outputs": [
    {
     "data": {
      "text/html": [
       "<div>\n",
       "<style scoped>\n",
       "    .dataframe tbody tr th:only-of-type {\n",
       "        vertical-align: middle;\n",
       "    }\n",
       "\n",
       "    .dataframe tbody tr th {\n",
       "        vertical-align: top;\n",
       "    }\n",
       "\n",
       "    .dataframe thead th {\n",
       "        text-align: right;\n",
       "    }\n",
       "</style>\n",
       "<table border=\"1\" class=\"dataframe\">\n",
       "  <thead>\n",
       "    <tr style=\"text-align: right;\">\n",
       "      <th></th>\n",
       "      <th>Open</th>\n",
       "      <th>High</th>\n",
       "      <th>Low</th>\n",
       "      <th>Close</th>\n",
       "      <th>Volume</th>\n",
       "    </tr>\n",
       "    <tr>\n",
       "      <th>Time</th>\n",
       "      <th></th>\n",
       "      <th></th>\n",
       "      <th></th>\n",
       "      <th></th>\n",
       "      <th></th>\n",
       "    </tr>\n",
       "  </thead>\n",
       "  <tbody>\n",
       "    <tr>\n",
       "      <th>2017-11-06 03:54:00</th>\n",
       "      <td>1.5</td>\n",
       "      <td>1.50</td>\n",
       "      <td>1.5</td>\n",
       "      <td>1.50</td>\n",
       "      <td>10.830</td>\n",
       "    </tr>\n",
       "    <tr>\n",
       "      <th>2017-11-06 03:55:00</th>\n",
       "      <td>1.3</td>\n",
       "      <td>1.30</td>\n",
       "      <td>1.3</td>\n",
       "      <td>1.30</td>\n",
       "      <td>1.000</td>\n",
       "    </tr>\n",
       "    <tr>\n",
       "      <th>2017-11-06 03:56:00</th>\n",
       "      <td>1.3</td>\n",
       "      <td>1.30</td>\n",
       "      <td>0.5</td>\n",
       "      <td>0.50</td>\n",
       "      <td>19.000</td>\n",
       "    </tr>\n",
       "    <tr>\n",
       "      <th>2017-11-06 03:57:00</th>\n",
       "      <td>0.5</td>\n",
       "      <td>0.61</td>\n",
       "      <td>0.5</td>\n",
       "      <td>0.61</td>\n",
       "      <td>253.000</td>\n",
       "    </tr>\n",
       "    <tr>\n",
       "      <th>2017-11-06 03:58:00</th>\n",
       "      <td>1.1</td>\n",
       "      <td>1.10</td>\n",
       "      <td>1.1</td>\n",
       "      <td>1.10</td>\n",
       "      <td>85.000</td>\n",
       "    </tr>\n",
       "    <tr>\n",
       "      <th>...</th>\n",
       "      <td>...</td>\n",
       "      <td>...</td>\n",
       "      <td>...</td>\n",
       "      <td>...</td>\n",
       "      <td>...</td>\n",
       "    </tr>\n",
       "    <tr>\n",
       "      <th>2023-04-30 23:55:00</th>\n",
       "      <td>337.7</td>\n",
       "      <td>338.30</td>\n",
       "      <td>337.7</td>\n",
       "      <td>338.00</td>\n",
       "      <td>4997.282</td>\n",
       "    </tr>\n",
       "    <tr>\n",
       "      <th>2023-04-30 23:56:00</th>\n",
       "      <td>338.0</td>\n",
       "      <td>338.30</td>\n",
       "      <td>338.0</td>\n",
       "      <td>338.20</td>\n",
       "      <td>937.007</td>\n",
       "    </tr>\n",
       "    <tr>\n",
       "      <th>2023-04-30 23:57:00</th>\n",
       "      <td>338.2</td>\n",
       "      <td>338.30</td>\n",
       "      <td>337.9</td>\n",
       "      <td>338.10</td>\n",
       "      <td>1869.750</td>\n",
       "    </tr>\n",
       "    <tr>\n",
       "      <th>2023-04-30 23:58:00</th>\n",
       "      <td>338.0</td>\n",
       "      <td>338.20</td>\n",
       "      <td>337.5</td>\n",
       "      <td>337.80</td>\n",
       "      <td>2139.829</td>\n",
       "    </tr>\n",
       "    <tr>\n",
       "      <th>2023-04-30 23:59:00</th>\n",
       "      <td>337.8</td>\n",
       "      <td>338.00</td>\n",
       "      <td>337.2</td>\n",
       "      <td>337.50</td>\n",
       "      <td>2848.245</td>\n",
       "    </tr>\n",
       "  </tbody>\n",
       "</table>\n",
       "<p>2882646 rows × 5 columns</p>\n",
       "</div>"
      ],
      "text/plain": [
       "                      Open    High    Low   Close    Volume\n",
       "Time                                                       \n",
       "2017-11-06 03:54:00    1.5    1.50    1.5    1.50    10.830\n",
       "2017-11-06 03:55:00    1.3    1.30    1.3    1.30     1.000\n",
       "2017-11-06 03:56:00    1.3    1.30    0.5    0.50    19.000\n",
       "2017-11-06 03:57:00    0.5    0.61    0.5    0.61   253.000\n",
       "2017-11-06 03:58:00    1.1    1.10    1.1    1.10    85.000\n",
       "...                    ...     ...    ...     ...       ...\n",
       "2023-04-30 23:55:00  337.7  338.30  337.7  338.00  4997.282\n",
       "2023-04-30 23:56:00  338.0  338.30  338.0  338.20   937.007\n",
       "2023-04-30 23:57:00  338.2  338.30  337.9  338.10  1869.750\n",
       "2023-04-30 23:58:00  338.0  338.20  337.5  337.80  2139.829\n",
       "2023-04-30 23:59:00  337.8  338.00  337.2  337.50  2848.245\n",
       "\n",
       "[2882646 rows x 5 columns]"
      ]
     },
     "execution_count": 6,
     "metadata": {},
     "output_type": "execute_result"
    }
   ],
   "source": [
    "df = pd.read_csv('scalping data/BNB_USDT_1m_2017-11-2023-04.csv', index_col='Time')\n",
    "\n",
    "\n",
    "df.index = pd.to_datetime(df.index) # Datatype to datetime index\n",
    "df       = df.asfreq('1T') # Restoring nan values if they were not saved \n",
    "__nan_idx = df.loc[df['Open'].isnull()].index\n",
    "df.fillna(method='ffill', inplace=True) # Flat line interpolating\n",
    "   \n",
    "\n",
    "df"
   ]
  },
  {
   "cell_type": "code",
   "execution_count": 9,
   "id": "05051156",
   "metadata": {},
   "outputs": [],
   "source": [
    "import sys"
   ]
  },
  {
   "cell_type": "code",
   "execution_count": 24,
   "id": "d0093634",
   "metadata": {},
   "outputs": [
    {
     "data": {
      "text/plain": [
       "553.468128"
      ]
     },
     "execution_count": 24,
     "metadata": {},
     "output_type": "execute_result"
    }
   ],
   "source": [
    "sys.getsizeof(df)/10**6 * 4"
   ]
  },
  {
   "cell_type": "code",
   "execution_count": null,
   "id": "3abb405b",
   "metadata": {},
   "outputs": [],
   "source": []
  }
 ],
 "metadata": {
  "kernelspec": {
   "display_name": "Python 3",
   "language": "python",
   "name": "python3"
  },
  "language_info": {
   "codemirror_mode": {
    "name": "ipython",
    "version": 3
   },
   "file_extension": ".py",
   "mimetype": "text/x-python",
   "name": "python",
   "nbconvert_exporter": "python",
   "pygments_lexer": "ipython3",
   "version": "3.6.5"
  }
 },
 "nbformat": 4,
 "nbformat_minor": 5
}
